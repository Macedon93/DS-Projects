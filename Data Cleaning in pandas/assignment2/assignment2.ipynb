{
 "cells": [
  {
   "cell_type": "markdown",
   "metadata": {},
   "source": [
    "# CSIT 356: Assignment 2\n",
    "## [name]\n",
    "## [student ID]"
   ]
  },
  {
   "cell_type": "markdown",
   "metadata": {},
   "source": [
    "### Introduction to the data\n",
    "The file name is data.csv. It contains the information of all municipalities in New Jersery. The meaning of each colunmn is as follows:\n",
    "\n",
    "* Municipality: the name of the municipality \n",
    "* County: the county that the municipality belongs to \n",
    "* POP2010: the population of a municipality in 2010 \n",
    "* POP2017: the population of a municipality in 2017 \n",
    "* MunicipalType: the type of a municipality\n",
    "\n",
    "In this assignment, you need to read the csv file as a dataFrame. Then, please use the functions and operations in pandas to answer the following questions. \n",
    "\n"
   ]
  },
  {
   "cell_type": "code",
   "execution_count": 1,
   "metadata": {},
   "outputs": [],
   "source": [
    "# import pandas\n",
    "# Don't delete this cell\n",
    "\n",
    "import pandas as pd"
   ]
  },
  {
   "cell_type": "markdown",
   "metadata": {},
   "source": [
    "## Question 1 (10 points)\n",
    "Read the file data.csv as a dataFrame named **df**. Assign the column 'Municipal' as the row index.   \n",
    "  \n",
    "#### Hint:   \n",
    "1. Use **read_csv** to read the file to be a dataFrame\n",
    "2. Set the argument **index_col** to be the name of the first column\n",
    "3. Set the argument **thousands** to be ',' since there are thousand separators in the file"
   ]
  },
  {
   "cell_type": "code",
   "execution_count": 1,
   "metadata": {},
   "outputs": [],
   "source": [
    "# You should write your answer within this cell\n",
    "# write your code of question 2 here\n"
   ]
  },
  {
   "cell_type": "markdown",
   "metadata": {},
   "source": [
    "## Question 2 (5 points)\n",
    "What is the name of the municipality with the most population in 2017? "
   ]
  },
  {
   "cell_type": "code",
   "execution_count": 2,
   "metadata": {},
   "outputs": [],
   "source": [
    "# You should write your answer within this cell\n",
    "# write your code of question 2 here\n",
    "    \n"
   ]
  },
  {
   "cell_type": "markdown",
   "metadata": {},
   "source": [
    "## Question 3  (10 points)\n",
    "How many municipalities are there in each county? The output should be a Series with the county name as the index and the number as the value.  \n",
    "#### Hint: \n",
    "Choose the column of 'County' and use **values_counts** function to calculate the frequencies of values in that column. "
   ]
  },
  {
   "cell_type": "code",
   "execution_count": 3,
   "metadata": {},
   "outputs": [],
   "source": [
    "# You should write your answer within this cell\n",
    "# write your code of question 3 here\n",
    "    \n"
   ]
  },
  {
   "cell_type": "markdown",
   "metadata": {},
   "source": [
    "## Question 4 (10 points)\n",
    "What municipality has the largest change in population from 2010 to 2017?\n",
    "The output should be a string. "
   ]
  },
  {
   "cell_type": "code",
   "execution_count": 4,
   "metadata": {},
   "outputs": [],
   "source": [
    "# You should write your answer within this cell\n",
    "# write your code of question 4 here\n",
    "\n"
   ]
  },
  {
   "cell_type": "markdown",
   "metadata": {},
   "source": [
    "## Question 5 (15 points)\n",
    "What is the total population of the Essex county in 2017? The output should be an integer. \n",
    "#### Hint\n",
    "1. Create a new dataFrame which selects the rows that are 'Essex' in the column 'County'\n",
    "2. Choose the column 'POP2017' of the new dataFrame\n",
    "3. Apply sum method to get the sum of that column"
   ]
  },
  {
   "cell_type": "code",
   "execution_count": 5,
   "metadata": {},
   "outputs": [],
   "source": [
    "# You should write your answer within this cell\n",
    "# write your code of question 5 here\n",
    "\n"
   ]
  },
  {
   "cell_type": "markdown",
   "metadata": {},
   "source": [
    "## Question 6 (15 points)\n",
    "Find the top five municipalities in population of 2017. List their county and the population of 2017. The output should be a dataFrame with two columns 'County' and 'POP2017', and the municipality as the index.\n",
    "\n",
    "#### Hint\n",
    "1. Sort **df** by the values in the column 'POP2017' in descending order. \n",
    "2. Choose the first 5 rows of the sorted **df**, and select their columns 'County' and 'POP2017'"
   ]
  },
  {
   "cell_type": "code",
   "execution_count": 6,
   "metadata": {},
   "outputs": [],
   "source": [
    "# You should write your answer within this cell\n",
    "# write your code of question 5 here\n",
    "\n"
   ]
  }
 ],
 "metadata": {
  "kernelspec": {
   "display_name": "Python 3",
   "language": "python",
   "name": "python3"
  },
  "language_info": {
   "codemirror_mode": {
    "name": "ipython",
    "version": 3
   },
   "file_extension": ".py",
   "mimetype": "text/x-python",
   "name": "python",
   "nbconvert_exporter": "python",
   "pygments_lexer": "ipython3",
   "version": "3.6.5"
  }
 },
 "nbformat": 4,
 "nbformat_minor": 2
}
